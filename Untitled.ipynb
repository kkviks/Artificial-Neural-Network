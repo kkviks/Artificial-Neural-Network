{
 "cells": [
  {
   "cell_type": "code",
   "execution_count": 49,
   "metadata": {},
   "outputs": [],
   "source": [
    "import numpy as np\n",
    "\n",
    "W1= np.random.rand(3,3)"
   ]
  },
  {
   "cell_type": "code",
   "execution_count": 50,
   "metadata": {},
   "outputs": [],
   "source": [
    "def standardize(x):\n",
    "    x_mean = np.mean(x,axis=1, keepdims=True)\n",
    "    x_std = np.std(x, axis=1, keepdims=True)+0.0000001\n",
    "\n",
    "    X = (x - x_mean)/x_std   #Python Broadcasting\n",
    "\n",
    "    return X"
   ]
  },
  {
   "cell_type": "code",
   "execution_count": null,
   "metadata": {},
   "outputs": [],
   "source": []
  },
  {
   "cell_type": "code",
   "execution_count": 51,
   "metadata": {},
   "outputs": [],
   "source": [
    "def normalize(x):\n",
    "    x_max = np.amax(x,axis=1)\n",
    "    x_min = np.amin(x,axis=1)\n",
    "    \n",
    "    x = x - x_min\n",
    "    x = x / (x_max-x_min)\n",
    "    \n",
    "    return x"
   ]
  },
  {
   "cell_type": "code",
   "execution_count": 52,
   "metadata": {},
   "outputs": [
    {
     "name": "stdout",
     "output_type": "stream",
     "text": [
      "[[0.65880045 0.08511854 0.56890285]\n",
      " [0.94357429 0.19434215 0.45252339]\n",
      " [0.4548128  0.35890467 0.07445282]]\n",
      "[[ 1.         -0.14578073  1.29995283]\n",
      " [ 1.49639677  0.          0.99398095]\n",
      " [ 0.64442377  0.21964156  0.        ]]\n",
      "[[ 0.87797787 -1.39912692  0.52114905]\n",
      " [ 1.33038231 -1.08059604 -0.24978627]\n",
      " [ 0.98291535  0.38911384 -1.37202919]]\n",
      "[[ 0.84006044 -0.12723266  1.33745662]\n",
      " [ 1.25706372  0.          1.02265741]\n",
      " [ 0.54135492  0.19169598  0.        ]]\n"
     ]
    }
   ],
   "source": [
    "print(W1)\n",
    "print(normalize(W1))\n",
    "print(standardize(W1))\n",
    "W1 = W1 - np.amin(W1,axis=1)\n",
    "W1 = W1/( np.amax(W1,axis=1)-np.amin(W1,axis=1))\n",
    "print(W1)"
   ]
  },
  {
   "cell_type": "code",
   "execution_count": null,
   "metadata": {},
   "outputs": [],
   "source": []
  },
  {
   "cell_type": "code",
   "execution_count": null,
   "metadata": {},
   "outputs": [],
   "source": []
  }
 ],
 "metadata": {
  "kernelspec": {
   "display_name": "Python 3",
   "language": "python",
   "name": "python3"
  },
  "language_info": {
   "codemirror_mode": {
    "name": "ipython",
    "version": 3
   },
   "file_extension": ".py",
   "mimetype": "text/x-python",
   "name": "python",
   "nbconvert_exporter": "python",
   "pygments_lexer": "ipython3",
   "version": "3.7.4"
  }
 },
 "nbformat": 4,
 "nbformat_minor": 4
}
